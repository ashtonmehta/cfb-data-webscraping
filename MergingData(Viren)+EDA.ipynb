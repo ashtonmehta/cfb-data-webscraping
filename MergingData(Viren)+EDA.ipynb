{
 "cells": [
  {
   "cell_type": "code",
   "execution_count": 1,
   "id": "6917f748-3541-4a31-8b78-38f26c65d351",
   "metadata": {},
   "outputs": [],
   "source": [
    "import pandas as pd\n",
    "import os\n",
    "import matplotlib.pyplot as plt\n",
    "import seaborn as sns"
   ]
  },
  {
   "cell_type": "code",
   "execution_count": 2,
   "id": "ef407473-e4e4-406f-a45a-04813e32622c",
   "metadata": {},
   "outputs": [
    {
     "name": "stdout",
     "output_type": "stream",
     "text": [
      "702\n",
      "3751\n"
     ]
    }
   ],
   "source": [
    "draft_data = pd.read_excel(\"DraftData.xlsx\")\n",
    "combine_data = pd.read_csv(\"2024combine.csv\")\n",
    "draft_data.head(), combine_data.head()\n",
    "\n",
    "print(len(draft_data))\n",
    "print(len(combine_data))"
   ]
  },
  {
   "cell_type": "code",
   "execution_count": 3,
   "id": "a796f716-63e7-471b-80c3-4b1fef442b8a",
   "metadata": {},
   "outputs": [
    {
     "name": "stdout",
     "output_type": "stream",
     "text": [
      "710\n"
     ]
    }
   ],
   "source": [
    "combine_selected = combine_data[[\n",
    "    \"Player\", \"Ht\", \"Wt\", \"40yd\", \"Vertical\", \"Bench\", \"Broad Jump\", \"3Cone\", \"Shuttle\"\n",
    "]]\n",
    "\n",
    "# Merge draft data with combine data on player name\n",
    "merged_data = pd.merge(draft_data, combine_selected, on=\"Player\", how=\"left\")\n",
    "merged_data.head()\n",
    "merged_data.to_csv(\"NFLDraft.csv\", index=False)\n",
    "print(len(merged_data))"
   ]
  },
  {
   "cell_type": "code",
   "execution_count": 4,
   "id": "9d26db95-b5b7-40e2-b7c2-f35236635b8f",
   "metadata": {},
   "outputs": [
    {
     "data": {
      "text/html": [
       "<div>\n",
       "<style scoped>\n",
       "    .dataframe tbody tr th:only-of-type {\n",
       "        vertical-align: middle;\n",
       "    }\n",
       "\n",
       "    .dataframe tbody tr th {\n",
       "        vertical-align: top;\n",
       "    }\n",
       "\n",
       "    .dataframe thead th {\n",
       "        text-align: right;\n",
       "    }\n",
       "</style>\n",
       "<table border=\"1\" class=\"dataframe\">\n",
       "  <thead>\n",
       "    <tr style=\"text-align: right;\">\n",
       "      <th></th>\n",
       "      <th>Draft_Year</th>\n",
       "      <th>Player</th>\n",
       "      <th>Pos</th>\n",
       "      <th>wAV</th>\n",
       "      <th>DrAV</th>\n",
       "      <th>G</th>\n",
       "      <th>College_Univ</th>\n",
       "      <th>Prospect_Grade</th>\n",
       "      <th>Ht</th>\n",
       "      <th>Wt</th>\n",
       "      <th>40yd</th>\n",
       "      <th>Vertical</th>\n",
       "      <th>Bench</th>\n",
       "      <th>Broad Jump</th>\n",
       "      <th>3Cone</th>\n",
       "      <th>Shuttle</th>\n",
       "    </tr>\n",
       "  </thead>\n",
       "  <tbody>\n",
       "    <tr>\n",
       "      <th>84</th>\n",
       "      <td>2015</td>\n",
       "      <td>Cameron Erving</td>\n",
       "      <td>C</td>\n",
       "      <td>28.0</td>\n",
       "      <td>6.0</td>\n",
       "      <td>98.0</td>\n",
       "      <td>Florida St.</td>\n",
       "      <td>6.2</td>\n",
       "      <td>6-5</td>\n",
       "      <td>313.0</td>\n",
       "      <td>5.15</td>\n",
       "      <td>30.5</td>\n",
       "      <td>30.0</td>\n",
       "      <td>112.0</td>\n",
       "      <td>7.48</td>\n",
       "      <td>4.63</td>\n",
       "    </tr>\n",
       "    <tr>\n",
       "      <th>126</th>\n",
       "      <td>2015</td>\n",
       "      <td>Ali Marpet</td>\n",
       "      <td>C</td>\n",
       "      <td>43.0</td>\n",
       "      <td>43.0</td>\n",
       "      <td>101.0</td>\n",
       "      <td>Hobart</td>\n",
       "      <td>5.9</td>\n",
       "      <td>6-4</td>\n",
       "      <td>307.0</td>\n",
       "      <td>4.98</td>\n",
       "      <td>30.5</td>\n",
       "      <td>30.0</td>\n",
       "      <td>108.0</td>\n",
       "      <td>7.33</td>\n",
       "      <td>4.47</td>\n",
       "    </tr>\n",
       "    <tr>\n",
       "      <th>147</th>\n",
       "      <td>2016</td>\n",
       "      <td>Ryan Kelly</td>\n",
       "      <td>C</td>\n",
       "      <td>54.0</td>\n",
       "      <td>54.0</td>\n",
       "      <td>121.0</td>\n",
       "      <td>Alabama</td>\n",
       "      <td>6.3</td>\n",
       "      <td>6-4</td>\n",
       "      <td>311.0</td>\n",
       "      <td>5.03</td>\n",
       "      <td>30.0</td>\n",
       "      <td>26.0</td>\n",
       "      <td>103.0</td>\n",
       "      <td>7.58</td>\n",
       "      <td>4.59</td>\n",
       "    </tr>\n",
       "    <tr>\n",
       "      <th>251</th>\n",
       "      <td>2017</td>\n",
       "      <td>Ethan Pocic</td>\n",
       "      <td>C</td>\n",
       "      <td>30.0</td>\n",
       "      <td>19.0</td>\n",
       "      <td>101.0</td>\n",
       "      <td>LSU</td>\n",
       "      <td>6.2</td>\n",
       "      <td>6-6</td>\n",
       "      <td>310.0</td>\n",
       "      <td>5.15</td>\n",
       "      <td>27.0</td>\n",
       "      <td>26.0</td>\n",
       "      <td>107.0</td>\n",
       "      <td>7.89</td>\n",
       "      <td>4.81</td>\n",
       "    </tr>\n",
       "    <tr>\n",
       "      <th>278</th>\n",
       "      <td>2018</td>\n",
       "      <td>Frank Ragnow</td>\n",
       "      <td>C</td>\n",
       "      <td>51.0</td>\n",
       "      <td>51.0</td>\n",
       "      <td>96.0</td>\n",
       "      <td>Arkansas</td>\n",
       "      <td>6.2</td>\n",
       "      <td>6-5</td>\n",
       "      <td>312.0</td>\n",
       "      <td>NaN</td>\n",
       "      <td>NaN</td>\n",
       "      <td>26.0</td>\n",
       "      <td>NaN</td>\n",
       "      <td>NaN</td>\n",
       "      <td>NaN</td>\n",
       "    </tr>\n",
       "  </tbody>\n",
       "</table>\n",
       "</div>"
      ],
      "text/plain": [
       "     Draft_Year          Player Pos   wAV  DrAV      G College_Univ  \\\n",
       "84         2015  Cameron Erving   C  28.0   6.0   98.0  Florida St.   \n",
       "126        2015      Ali Marpet   C  43.0  43.0  101.0       Hobart   \n",
       "147        2016      Ryan Kelly   C  54.0  54.0  121.0      Alabama   \n",
       "251        2017     Ethan Pocic   C  30.0  19.0  101.0          LSU   \n",
       "278        2018    Frank Ragnow   C  51.0  51.0   96.0     Arkansas   \n",
       "\n",
       "     Prospect_Grade   Ht     Wt  40yd  Vertical  Bench  Broad Jump  3Cone  \\\n",
       "84              6.2  6-5  313.0  5.15      30.5   30.0       112.0   7.48   \n",
       "126             5.9  6-4  307.0  4.98      30.5   30.0       108.0   7.33   \n",
       "147             6.3  6-4  311.0  5.03      30.0   26.0       103.0   7.58   \n",
       "251             6.2  6-6  310.0  5.15      27.0   26.0       107.0   7.89   \n",
       "278             6.2  6-5  312.0   NaN       NaN   26.0         NaN    NaN   \n",
       "\n",
       "     Shuttle  \n",
       "84      4.63  \n",
       "126     4.47  \n",
       "147     4.59  \n",
       "251     4.81  \n",
       "278      NaN  "
      ]
     },
     "execution_count": 4,
     "metadata": {},
     "output_type": "execute_result"
    }
   ],
   "source": [
    "position_data = merged_data[\n",
    "    [\n",
    "        \"Draft_Year\", \"Player\", \"Pos\", \"wAV\", \"DrAV\", \"G\", \"College_Univ\", \"Prospect_Grade\",\n",
    "        \"Ht\", \"Wt\", \"40yd\", \"Vertical\", \"Bench\", \"Broad Jump\", \"3Cone\", \"Shuttle\"\n",
    "    ]\n",
    "]\n",
    "\n",
    "position_grouped = position_data.sort_values(by=[\"Pos\", \"Draft_Year\"])\n",
    "position_grouped.head()\n",
    "\n"
   ]
  },
  {
   "cell_type": "code",
   "execution_count": 5,
   "id": "9bb9a437-8354-4d6e-b122-cb92a266765e",
   "metadata": {},
   "outputs": [
    {
     "data": {
      "text/plain": [
       "48"
      ]
     },
     "execution_count": 5,
     "metadata": {},
     "output_type": "execute_result"
    }
   ],
   "source": [
    "position_datasets = {\n",
    "    position: df for position, df in position_grouped.groupby(\"Pos\")\n",
    "}\n",
    "\n",
    "position_datasets[\"WR\"]\n",
    "len(position_datasets['QB'])"
   ]
  },
  {
   "cell_type": "code",
   "execution_count": 6,
   "id": "ec5aee13-2cb7-4379-8a1f-caa2760e618e",
   "metadata": {},
   "outputs": [],
   "source": [
    "folder_path = \"/Users/vhalaharivi/Desktop/cfb-data-webscraping-main/receiving\"\n",
    "receiver_stats = []\n",
    "\n",
    "# Loop through all CSV files in the folder\n",
    "for filename in os.listdir(folder_path):\n",
    "    if filename.endswith(\".csv\"):\n",
    "        file_path = os.path.join(folder_path, filename)\n",
    "        df = pd.read_csv(file_path)\n",
    "\n",
    "        # Ensure \"Career\" row exists\n",
    "        career_row = df[df['Season'] == 'Career']\n",
    "        if not career_row.empty:\n",
    "            # Extract only the relevant columns\n",
    "            stats = career_row[['Player', 'G', 'Rec', 'Yds', 'Y/R', 'TD', 'Y/G', 'Att']]\n",
    "            receiver_stats.append(stats)\n",
    "\n",
    "\n",
    "\n",
    "# Combine all the individual stats into a single dataframe\n",
    "all_receivers_df = pd.concat(receiver_stats, ignore_index=True)\n",
    "\n",
    "# Optional: convert numeric columns to proper types (in case they are strings)\n",
    "numeric_cols = ['G', 'Rec', 'Yds', 'Y/R', 'TD', 'Y/G', 'Att']\n",
    "all_receivers_df[numeric_cols] = all_receivers_df[numeric_cols].apply(pd.to_numeric, errors='coerce')\n",
    "\n",
    "for pos in ['WR', 'TE']:\n",
    "    if pos in position_datasets:\n",
    "        position_datasets[pos] = position_datasets[pos].merge(\n",
    "            all_receivers_df, on=\"Player\", how=\"left\", suffixes=('', '_college')\n",
    "        )\n",
    "\n",
    "position_datasets['TE'].to_csv(\"TightEnds.csv\", index = False)\n",
    "position_datasets['WR'].to_csv(\"WideReceivers.csv\", index = False)\n"
   ]
  },
  {
   "cell_type": "code",
   "execution_count": 7,
   "id": "b44c5ee7-9556-4203-b7bf-0c68164fc109",
   "metadata": {},
   "outputs": [],
   "source": [
    "qb_folder_path = \"/Users/vhalaharivi/Desktop/cfb-data-webscraping-main/passing\"\n",
    "\n",
    "qb_cols_needed = ['G', 'Cmp', 'Att', 'Cmp%', 'Yds', 'TD', 'TD%', 'Int', 'Int%', 'Rate']\n",
    "\n",
    "qb_stats = []\n",
    "\n",
    "for filename in os.listdir(qb_folder_path):\n",
    "    if filename.endswith(\".csv\"):\n",
    "        file_path = os.path.join(qb_folder_path, filename)\n",
    "        df = pd.read_csv(file_path)\n",
    "\n",
    "        # Get the 'Career' row only\n",
    "        career_row = df[df['Season'] == 'Career']\n",
    "\n",
    "        if not career_row.empty:\n",
    "            # Try to get player name from file OR from column\n",
    "            try:\n",
    "                player_name = career_row['Player'].values[0]\n",
    "            except KeyError:\n",
    "                # Fallback: infer player name from filename\n",
    "                base_name = os.path.basename(filename)\n",
    "                player_name = base_name.replace(\"player_\", \"\").split(\".csv\")[0]\n",
    "                player_name = \"_\".join(player_name.split(\"_\")[1:]).replace(\"_\", \" \").strip()\n",
    "\n",
    "            # Prepare a dict with player name and stats\n",
    "            stat_row = career_row[qb_cols_needed].copy()\n",
    "            stat_row.insert(0, 'Player', player_name)\n",
    "            qb_stats.append(stat_row)\n",
    "\n",
    "# Combine into one dataframe\n",
    "all_qbs_df = pd.concat(qb_stats, ignore_index=True)\n",
    "\n",
    "# Convert numeric columns\n",
    "numeric_cols = [col for col in all_qbs_df.columns if col != \"Player\"]\n",
    "all_qbs_df[numeric_cols] = all_qbs_df[numeric_cols].apply(pd.to_numeric, errors='coerce')\n",
    "\n",
    "# Merge back into the QB dataset\n",
    "position_datasets[\"QB\"] = position_datasets[\"QB\"].merge(\n",
    "    all_qbs_df, on=\"Player\", how=\"left\", suffixes=('', '_college')\n",
    ")\n",
    "\n",
    "# Preview the result\n",
    "position_datasets[\"QB\"].to_csv(\"Quarterbacks.csv\", index = False)\n",
    "\n"
   ]
  },
  {
   "cell_type": "code",
   "execution_count": 14,
   "id": "f780786f-7cd5-419e-8f87-ef1ad3640adb",
   "metadata": {},
   "outputs": [],
   "source": [
    "rb_folder_path = \"/Users/vhalaharivi/Desktop/cfb-data-webscraping-main/rushing\"\n",
    "\n",
    "rb_columns = ['G', 'Att', 'Yds', 'Y/A', 'TD', 'Y/G', 'Rec', 'Yds.1', 'Y/R', 'TD.1']\n",
    "rb_stats = []\n",
    "\n",
    "for filename in os.listdir(rb_folder_path):\n",
    "    if filename.endswith(\".csv\"):\n",
    "        file_path = os.path.join(rb_folder_path, filename)\n",
    "        df = pd.read_csv(file_path)\n",
    "        career_row = df[df['Season'] == 'Career']\n",
    "        if not career_row.empty:\n",
    "            try:\n",
    "                player_name = career_row['Player'].values[0]\n",
    "            except KeyError:\n",
    "                base_name = os.path.basename(filename)\n",
    "                player_name = base_name.replace(\"player_\", \"\").split(\".csv\")[0]\n",
    "                player_name = \"_\".join(player_name.split(\"_\")[1:]).replace(\"_\", \" \").strip()\n",
    "\n",
    "            stat_row = career_row[rb_columns].copy()\n",
    "            stat_row.insert(0, 'Player', player_name)\n",
    "            rb_stats.append(stat_row)\n",
    "\n",
    "all_rbs_df = pd.concat(rb_stats, ignore_index=True)\n",
    "\n",
    "numeric_cols = [col for col in all_rbs_df.columns if col != \"Player\"]\n",
    "all_rbs_df[numeric_cols] = all_rbs_df[numeric_cols].apply(pd.to_numeric, errors='coerce')\n",
    "\n",
    "position_datasets[\"RB\"] = position_datasets[\"RB\"].merge(\n",
    "    all_rbs_df,\n",
    "    on=\"Player\",\n",
    "    how=\"left\",  \n",
    "    suffixes=('', '_college')\n",
    ")\n",
    "position_datasets[\"RB\"].to_csv(\"Runningbacks.csv\", index = False)"
   ]
  },
  {
   "cell_type": "code",
   "execution_count": 10,
   "id": "69325659-174b-4c6e-8da7-6285f2449e68",
   "metadata": {},
   "outputs": [
    {
     "data": {
      "image/png": "[encoded data removed]",
      "text/plain": [
       "<Figure size 1000x600 with 1 Axes>"
      ]
     },
     "metadata": {},
     "output_type": "display_data"
    }
   ],
   "source": [
    "df = pd.read_csv(\"NFLDraft.csv\")\n",
    "\n",
    "# Plot histogram of Prospect_Grade\n",
    "plt.figure(figsize=(10, 6))\n",
    "plt.hist(df['Prospect_Grade'].dropna(), bins=20, edgecolor='black')\n",
    "plt.title(\"Distribution of Prospect Grades\")\n",
    "plt.xlabel(\"Prospect Grade\")\n",
    "plt.ylabel(\"Number of Players\")\n",
    "plt.grid(True)\n",
    "plt.tight_layout()\n",
    "plt.show()"
   ]
  },
  {
   "cell_type": "code",
   "execution_count": 15,
   "id": "e7ecf47f-670a-4c3b-9bad-34b73b72df18",
   "metadata": {},
   "outputs": [
    {
     "data": {
      "image/png": "[encoded data removed]",
      "text/plain": [
       "<Figure size 1000x600 with 1 Axes>"
      ]
     },
     "metadata": {},
     "output_type": "display_data"
    }
   ],
   "source": [
    "qbs = pd.read_csv(\"Quarterbacks.csv\")\n",
    "wrs = pd.read_csv(\"WideReceivers.csv\")\n",
    "tes = pd.read_csv(\"TightEnds.csv\")\n",
    "rbs = pd.read_csv(\"Runningbacks.csv\")\n",
    "\n",
    "qbs[\"Position\"] = \"QB\"\n",
    "wrs[\"Position\"] = \"WR\"\n",
    "tes[\"Position\"] = \"TE\"\n",
    "rbs[\"Position\"] = \"RB\"\n",
    "\n",
    "\n",
    "combined = pd.concat([qbs, wrs, tes, rbs], ignore_index=True)\n",
    "\n",
    "# Drop rows with missing 40yd times\n",
    "combined = combined.dropna(subset=[\"40yd\"])\n",
    "\n",
    "# Convert 40yd column to numeric (if needed)\n",
    "combined[\"40yd\"] = pd.to_numeric(combined[\"40yd\"], errors=\"coerce\")\n",
    "\n",
    "# Plot histogram by position\n",
    "plt.figure(figsize=(10, 6))\n",
    "for pos in combined[\"Position\"].unique():\n",
    "    subset = combined[combined[\"Position\"] == pos]\n",
    "    plt.hist(subset[\"40yd\"], bins=20, alpha=0.6, label=pos)\n",
    "\n",
    "plt.title(\"40-Yard Dash Time Distribution by Position\")\n",
    "plt.xlabel(\"40-Yard Dash Time (seconds)\")\n",
    "plt.ylabel(\"Number of Players\")\n",
    "plt.legend()\n",
    "plt.grid(True)\n",
    "plt.tight_layout()\n",
    "plt.show()"
   ]
  },
  {
   "cell_type": "code",
   "execution_count": 18,
   "id": "cbe85acc-9bf6-4726-bb2b-89ba861a274b",
   "metadata": {},
   "outputs": [
    {
     "name": "stderr",
     "output_type": "stream",
     "text": [
      "/var/folders/kr/91p59jqd5k7fczhhgjwhc7m80000gn/T/ipykernel_1057/741481797.py:12: FutureWarning: \n",
      "\n",
      "Passing `palette` without assigning `hue` is deprecated and will be removed in v0.14.0. Assign the `x` variable to `hue` and set `legend=False` for the same effect.\n",
      "\n",
      "  sns.boxplot(data=combined, x=\"Position\", y=\"Prospect_Grade\", palette=palette)\n"
     ]
    },
    {
     "data": {
      "image/png": "[encoded data removed]",
      "text/plain": [
       "<Figure size 800x600 with 1 Axes>"
      ]
     },
     "metadata": {},
     "output_type": "display_data"
    }
   ],
   "source": [
    "combined = pd.concat([qbs, wrs, tes, rbs], ignore_index=True)\n",
    "\n",
    "palette = {\n",
    "    \"QB\": \"#1f77b4\",   # Blue\n",
    "    \"WR\": \"#2ca02c\",   # Green\n",
    "    \"TE\": \"#d62728\" ,   # Red\n",
    "    \"RB\": \"#ffff00\"\n",
    "}\n",
    "# Convert 40yd and Prospect_Grade to numeric (handle errors)\n",
    "combined[\"40yd\"] = pd.to_numeric(combined[\"40yd\"], errors=\"coerce\")\n",
    "plt.figure(figsize=(8, 6))\n",
    "sns.boxplot(data=combined, x=\"Position\", y=\"Prospect_Grade\", palette=palette)\n",
    "plt.title(\"Prospect Grade Distribution by Position\")\n",
    "plt.grid(True)\n",
    "plt.tight_layout()\n",
    "plt.show()"
   ]
  },
  {
   "cell_type": "code",
   "execution_count": null,
   "id": "b71e04ab-f442-4194-b18c-6df872dee0cc",
   "metadata": {},
   "outputs": [],
   "source": []
  },
  {
   "cell_type": "code",
   "execution_count": null,
   "id": "af9f32d7-a0c9-4aac-a623-9f6e3e9b60cd",
   "metadata": {},
   "outputs": [],
   "source": []
  }
 ],
 "metadata": {
  "kernelspec": {
   "display_name": "Python 3 (ipykernel)",
   "language": "python",
   "name": "python3"
  },
  "language_info": {
   "codemirror_mode": {
    "name": "ipython",
    "version": 3
   },
   "file_extension": ".py",
   "mimetype": "text/x-python",
   "name": "python",
   "nbconvert_exporter": "python",
   "pygments_lexer": "ipython3",
   "version": "3.11.1"
  }
 },
 "nbformat": 4,
 "nbformat_minor": 5
}
